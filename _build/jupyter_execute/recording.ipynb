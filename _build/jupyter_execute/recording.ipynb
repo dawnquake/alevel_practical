{
 "cells": [
  {
   "cell_type": "markdown",
   "id": "79db32f9",
   "metadata": {},
   "source": [
    "# Recording"
   ]
  },
  {
   "cell_type": "markdown",
   "id": "96e5f6d2",
   "metadata": {},
   "source": [
    "- Read exam paper before drawing any sort of table to record the data. First always figure out how to structure the table layout, and what are the columns inside the table?\n",
    "- Ensure that unit of measurement are included\n",
    "- Record all data to the same number of significant figures. Usually, this is the minimum amount of significant figures for measurement done during experiment, based on what is 1/2 fine line division of instrument\n",
    "- Values calculated from measurements must not have more significant figures than the measurement itself\n",
    "- When you have repeated tests and analysis with the same unit (such as mean/average) then you can group them together under the same column as subcolumns.  "
   ]
  },
  {
   "cell_type": "code",
   "execution_count": null,
   "id": "7f4a7c88",
   "metadata": {},
   "outputs": [],
   "source": []
  }
 ],
 "metadata": {
  "kernelspec": {
   "display_name": "Python 3 (ipykernel)",
   "language": "python",
   "name": "python3"
  },
  "language_info": {
   "codemirror_mode": {
    "name": "ipython",
    "version": 3
   },
   "file_extension": ".py",
   "mimetype": "text/x-python",
   "name": "python",
   "nbconvert_exporter": "python",
   "pygments_lexer": "ipython3",
   "version": "3.8.10"
  }
 },
 "nbformat": 4,
 "nbformat_minor": 5
}