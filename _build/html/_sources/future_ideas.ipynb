{
 "cells": [
  {
   "cell_type": "markdown",
   "id": "3e0723f1",
   "metadata": {},
   "source": [
    "# Future Ideas\n",
    "\n",
    "- Repeating the experiment more times and taking the mean or use better instruments like a light meter or sth for the largest source of uncertainty\n",
    "- Suggest further confirmatory tests, such as experiments in other conditions and maybe experiment extending beyond the axis to verify hypothesis"
   ]
  },
  {
   "cell_type": "code",
   "execution_count": null,
   "id": "4f84ec27",
   "metadata": {},
   "outputs": [],
   "source": []
  }
 ],
 "metadata": {
  "kernelspec": {
   "display_name": "Python 3 (ipykernel)",
   "language": "python",
   "name": "python3"
  },
  "language_info": {
   "codemirror_mode": {
    "name": "ipython",
    "version": 3
   },
   "file_extension": ".py",
   "mimetype": "text/x-python",
   "name": "python",
   "nbconvert_exporter": "python",
   "pygments_lexer": "ipython3",
   "version": "3.8.10"
  }
 },
 "nbformat": 4,
 "nbformat_minor": 5
}
