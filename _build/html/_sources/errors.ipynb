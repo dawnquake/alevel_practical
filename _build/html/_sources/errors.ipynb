{
 "cells": [
  {
   "cell_type": "markdown",
   "id": "b73d0e6a",
   "metadata": {},
   "source": [
    "# Error reasons and solutions\n",
    "\n",
    "Collect here the possible reasons for errors, and how to deal with these errors\n",
    "\n",
    "|Reason for Error | Description |  Solution to Error|\n",
    "| ---  | --- | --- |\n",
    "|Parallex error| When reading, need to read with line of vision parallel to the fine line division, and not at an angle | Read with line of vision parallel to the fine line division |\n",
    "|Zero error| The zero marker on the instrument might not be at the very beginning | Verify results with another instrument |\n",
    "| Ending or starting experiment too late or too early | Consistently -> Systematic; Not consistent -> Random | Use an automated digital tool instead of relying on human judgment to start or end experiment, or repeat the readings multiple times and take average |"
   ]
  },
  {
   "cell_type": "code",
   "execution_count": null,
   "id": "51080d11",
   "metadata": {},
   "outputs": [],
   "source": []
  }
 ],
 "metadata": {
  "kernelspec": {
   "display_name": "Python 3 (ipykernel)",
   "language": "python",
   "name": "python3"
  },
  "language_info": {
   "codemirror_mode": {
    "name": "ipython",
    "version": 3
   },
   "file_extension": ".py",
   "mimetype": "text/x-python",
   "name": "python",
   "nbconvert_exporter": "python",
   "pygments_lexer": "ipython3",
   "version": "3.8.10"
  }
 },
 "nbformat": 4,
 "nbformat_minor": 5
}
