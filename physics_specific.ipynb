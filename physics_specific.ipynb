{
 "cells": [
  {
   "cell_type": "markdown",
   "id": "7e60249b",
   "metadata": {},
   "source": [
    "# Physics specific tips"
   ]
  },
  {
   "cell_type": "markdown",
   "id": "5f0a18c4",
   "metadata": {},
   "source": [
    "- How to use Caliphers\n",
    "- How to use Micrometer Screw Gauge"
   ]
  },
  {
   "cell_type": "code",
   "execution_count": null,
   "id": "3f6b662d",
   "metadata": {},
   "outputs": [],
   "source": []
  }
 ],
 "metadata": {
  "kernelspec": {
   "display_name": "Python 3 (ipykernel)",
   "language": "python",
   "name": "python3"
  },
  "language_info": {
   "codemirror_mode": {
    "name": "ipython",
    "version": 3
   },
   "file_extension": ".py",
   "mimetype": "text/x-python",
   "name": "python",
   "nbconvert_exporter": "python",
   "pygments_lexer": "ipython3",
   "version": "3.8.10"
  }
 },
 "nbformat": 4,
 "nbformat_minor": 5
}
