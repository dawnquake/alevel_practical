{
 "cells": [
  {
   "cell_type": "markdown",
   "id": "34375625",
   "metadata": {},
   "source": [
    "# Chemistry specific tips"
   ]
  },
  {
   "cell_type": "markdown",
   "id": "d022f9d7",
   "metadata": {},
   "source": [
    "- Colorless is NOT same as Clear; Colorless means it is not colored and transparent (like Water, or saline solution) and Clear means that it is simply transparent, so Colorless is a subset of Clear. For example, CuSO4(aq) is clear, since you can see the other side of beaker with CuSO4(aq) but it is not colorless since the solution is blue\n",
    "\n",
    "- If you see solid particle suspended in liquid, you will write precipitate\n",
    "\n",
    "- For titration, the end point of titration where is there is color change is always a source of error due to subjective judgment of color change. The results of the 1st titration will always be very rough since you will not know  the end point of the titration beforehand (you do not know when does the indicator color changes in your first go). After the 1st titration, when you approach when the color change happens, do the experiment slowly and carefully to correctly capture the color change. When doing the analysis based on such titre, you can always ignore the 1st rough result, but you need to clearly state that you have ignored it because it is a rough result, and not just ignore it without justification. \n",
    "\n",
    "- See book page 435 to 437 for testing relationships and page 439 to page 444 for sources of errors and possible improvements"
   ]
  },
  {
   "cell_type": "code",
   "execution_count": null,
   "id": "99291dc3",
   "metadata": {},
   "outputs": [],
   "source": []
  }
 ],
 "metadata": {
  "kernelspec": {
   "display_name": "Python 3 (ipykernel)",
   "language": "python",
   "name": "python3"
  },
  "language_info": {
   "codemirror_mode": {
    "name": "ipython",
    "version": 3
   },
   "file_extension": ".py",
   "mimetype": "text/x-python",
   "name": "python",
   "nbconvert_exporter": "python",
   "pygments_lexer": "ipython3",
   "version": "3.8.10"
  }
 },
 "nbformat": 4,
 "nbformat_minor": 5
}
